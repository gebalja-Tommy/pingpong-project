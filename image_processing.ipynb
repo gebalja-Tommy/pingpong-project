{
 "cells": [
  {
   "cell_type": "code",
   "execution_count": 2,
   "metadata": {},
   "outputs": [],
   "source": [
    "import cv2"
   ]
  },
  {
   "cell_type": "code",
   "execution_count": 21,
   "metadata": {},
   "outputs": [
    {
     "data": {
      "image/png": "[encoded data removed]",
      "text/plain": [
       "<Figure size 432x288 with 2 Axes>"
      ]
     },
     "metadata": {
      "needs_background": "light"
     },
     "output_type": "display_data"
    }
   ],
   "source": [
    "from matplotlib.colors import hsv_to_rgb\n",
    "import matplotlib.pyplot as plt\n",
    "import numpy as np\n",
    "\n",
    "light_blue = (110, 100, 100)\n",
    "dark_blue = (150, 255, 255)\n",
    "\n",
    "\n",
    "light_orange = (1, 200, 200)\n",
    "dark_orange = (18, 255, 255)\n",
    "\n",
    "lo_square = np.full((10, 10, 3), light_blue, dtype=np.uint8) / 255.0\n",
    "do_square = np.full((10, 10, 3), dark_blue, dtype=np.uint8) / 255.0\n",
    "\n",
    "plt.subplot(1, 2, 1)\n",
    "plt.imshow(hsv_to_rgb(do_square))\n",
    "plt.subplot(1, 2, 2)\n",
    "plt.imshow(hsv_to_rgb(lo_square))\n",
    "plt.show()"
   ]
  },
  {
   "cell_type": "code",
   "execution_count": 16,
   "metadata": {},
   "outputs": [],
   "source": [
    "import os\n",
    "import shutil\n",
    "\n",
    "movdir = r\"highquality_data\"\n",
    "basedir = r\"a\"\n",
    "# Walk through all files in the directory that contains the files to copy\n",
    "for root, dirs, files in os.walk(movdir):\n",
    "    i = 0\n",
    "    for filename in files:\n",
    "        # I use absolute path, case you want to move several dirs.\n",
    "        old_name = os.path.join(movdir, filename )\n",
    "        # print(old_name)\n",
    "        # Separate base from extension\n",
    "        base, extension = os.path.splitext(filename)\n",
    "\n",
    "        # Initial new name\n",
    "        new_name = os.path.join(basedir, str(i) + extension)\n",
    "        # print(new_name)\n",
    "        # If folder basedir/base does not exist... You don't want to create it?\n",
    "        # if not os.path.exists(os.path.join(basedir, base)):\n",
    "        #     print(os.path.join(basedir, base), \"not found\")\n",
    "        #     continue    # Next filename\n",
    "        if not os.path.exists(new_name):  # folder exists, file does not\n",
    "            shutil.copy(old_name, new_name)\n",
    "            i += 1\n",
    "        # else:  # folder exists, file exists as well\n",
    "        #     ii = 1\n",
    "        #     while True:\n",
    "        #         new_name = os.path.join(basedir,base, base + \"_\" + str(ii) + extension)\n",
    "        #         if not os.path.exists(new_name):\n",
    "        #            shutil.copy(old_name, new_name)\n",
    "        #            print(\"Copied\", old_name, \"as\", new_name)\n",
    "        #            break \n",
    "        #         ii += 1"
   ]
  }
 ],
 "metadata": {
  "interpreter": {
   "hash": "2391778b685347cadac7093f2020ff559e06ee771e9dafe75e8ab1e16b0e24d1"
  },
  "kernelspec": {
   "display_name": "Python 3.8.8 ('base')",
   "language": "python",
   "name": "python3"
  },
  "language_info": {
   "codemirror_mode": {
    "name": "ipython",
    "version": 3
   },
   "file_extension": ".py",
   "mimetype": "text/x-python",
   "name": "python",
   "nbconvert_exporter": "python",
   "pygments_lexer": "ipython3",
   "version": "3.8.8"
  },
  "orig_nbformat": 4
 },
 "nbformat": 4,
 "nbformat_minor": 2
}
